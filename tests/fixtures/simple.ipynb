{
 "cells": [
  {
   "cell_type": "markdown",
   "id": "ac70e187",
   "metadata": {},
   "source": [
    "# Title\n",
    "\n",
    "Very simple example of a notebook with Markdown, Latex and Python code cells."
   ]
  },
  {
   "cell_type": "code",
   "execution_count": 1,
   "id": "f9f53a15",
   "metadata": {},
   "outputs": [
    {
     "name": "stdout",
     "output_type": "stream",
     "text": [
      "sys.version_info(major=3, minor=10, micro=6, releaselevel='final', serial=0)\n"
     ]
    }
   ],
   "source": [
    "import sys\n",
    "\n",
    "print(sys.version_info)"
   ]
  },
  {
   "cell_type": "markdown",
   "id": "9733a269",
   "metadata": {},
   "source": [
    "## Markdown with Latex\n",
    "\n",
    "$$\n",
    "\\sum^{i=1}_{n} \n",
    "i = \\frac{n(n+1)}{2}\n",
    "$$"
   ]
  },
  {
   "cell_type": "markdown",
   "id": "e2ad1b55",
   "metadata": {},
   "source": [
    "### Markdown with $\\sum^{10}_0$ inline LaTeX \n",
    "\n",
    "and $\\sum^10_0$ inline LaTeX"
   ]
  },
  {
   "cell_type": "code",
   "execution_count": null,
   "id": "4e0f82ce",
   "metadata": {},
   "outputs": [],
   "source": [
    "# @nbh:show\n",
    "\n",
    "import textwrap\n",
    "\n",
    "textwrap.dedent(\"\"\"ArithmeticError\"\"\")"
   ]
  },
  {
   "cell_type": "markdown",
   "id": "a70520c9",
   "metadata": {},
   "source": [
    "## References\n",
    "\n",
    "- [Latex Math](https://www.latex-project.org/help/documentation/latex2e/)\n",
    "- [Markdown Guide](https://www.markdownguide.org/)\n",
    "- [Jupyter Documentation](https://jupyter.org/documentation)"
   ]
  },
  {
   "cell_type": "markdown",
   "id": "c0a413a4",
   "metadata": {},
   "source": []
  }
 ],
 "metadata": {
  "kernelspec": {
   "display_name": "zelig",
   "language": "python",
   "name": "python3"
  },
  "language_info": {
   "codemirror_mode": {
    "name": "ipython",
    "version": 3
   },
   "file_extension": ".py",
   "mimetype": "text/x-python",
   "name": "python",
   "nbconvert_exporter": "python",
   "pygments_lexer": "ipython3",
   "version": "3.10.6"
  }
 },
 "nbformat": 4,
 "nbformat_minor": 5
}
